{
 "cells": [
  {
   "cell_type": "code",
   "execution_count": 45,
   "id": "a2c46657",
   "metadata": {},
   "outputs": [],
   "source": [
    "import pandas as pd\n",
    "import numpy as np\n",
    "from sklearn.model_selection import train_test_split, RandomizedSearchCV\n",
    "from sklearn.preprocessing import OneHotEncoder, StandardScaler\n",
    "from sklearn.model_selection import StratifiedKFold\n",
    "from sklearn.compose import ColumnTransformer\n",
    "from sklearn.pipeline import Pipeline\n",
    "from xgboost import XGBClassifier\n",
    "from sklearn.impute import SimpleImputer\n",
    "from sklearn.metrics import roc_auc_score\n",
    "from lightgbm import LGBMClassifier\n",
    "from sklearn.model_selection import RandomizedSearchCV, train_test_split, StratifiedKFold\n"
   ]
  },
  {
   "cell_type": "code",
   "execution_count": 7,
   "id": "95c35b05",
   "metadata": {},
   "outputs": [],
   "source": [
    "# Load training and test data\n",
    "df_train = pd.read_csv(\"training_dataset.csv\")\n",
    "# df_test = pd.read_csv(\"validation_set.csv\")"
   ]
  },
  {
   "cell_type": "code",
   "execution_count": 46,
   "id": "d772ad92",
   "metadata": {},
   "outputs": [
    {
     "data": {
      "text/plain": [
       "['usia',\n",
       " 'pendidikan',\n",
       " 'jumlah_kontak_kampanye_ini',\n",
       " 'hari_sejak_kontak_sebelumnya',\n",
       " 'jumlah_kontak_sebelumnya',\n",
       " 'tingkat_variasi_pekerjaan',\n",
       " 'indeks_harga_konsumen',\n",
       " 'indeks_kepercayaan_konsumen',\n",
       " 'suku_bunga_euribor_3bln',\n",
       " 'jumlah_pekerja']"
      ]
     },
     "execution_count": 46,
     "metadata": {},
     "output_type": "execute_result"
    }
   ],
   "source": [
    "# Define features and target\n",
    "X = df_train.drop(columns=[\"berlangganan_deposito\", \"customer_number\"])\n",
    "X = X.replace(['unknown', r'^\\s*$'], np.nan, regex=True)\n",
    "y = df_train[\"berlangganan_deposito\"]\n",
    "# X_val = df_test.drop(columns=[\"customer_number\"])\n",
    "# X_val = X_val.replace('unknown', np.nan)\n",
    "# val_customer_number = df_test[\"customer_number\"]\n",
    "\n",
    "# pendidikan handle \n",
    "pendidikan_order = {\n",
    "    \"TIDAK SEKOLAH\": 0, \"Tidak Tamat SD\": 1, \"SD\": 2, \n",
    "    \"SMP\": 3, \"SMA\": 4, \"Diploma\": 5, \"Pendidikan Tinggi\": 6}\n",
    "X[\"pendidikan\"] = X[\"pendidikan\"].map(pendidikan_order)\n",
    "\n",
    "\n",
    "# # month handle\n",
    "# bulan_dict = {\n",
    "#     \"jan\": 1, \"feb\": 2, \"mar\": 3, \"apr\": 4,\n",
    "#     \"mei\": 5, \"jun\": 6, \"jul\": 7, \"aug\": 8,\n",
    "#     \"sep\": 9, \"oct\": 10, \"nov\": 11, \"dec\": 12\n",
    "# }\n",
    "# X[\"bulan_kontak_terakhir\"] = X[\"bulan_kontak_terakhir\"].map(bulan_dict)\n",
    "\n",
    "# # day handle\n",
    "# hari_dict = {\n",
    "#     \"mon\": 0, \"tue\": 1, \"wed\": 2, \"thu\": 3,\n",
    "#     \"fri\": 4, \"sat\": 5, \"sun\": 6\n",
    "# }\n",
    "# X[\"hari_kontak_terakhir\"] = X[\"hari_kontak_terakhir\"].map(hari_dict)\n",
    "\n",
    "\n",
    "# 999 handle\n",
    "X['pernah_dihubungi_sebelumnya'] = (X['hari_sejak_kontak_sebelumnya'] != 999).astype(int)\n",
    "median_hari = X.loc[X['hari_sejak_kontak_sebelumnya'] != 999, 'hari_sejak_kontak_sebelumnya'].median()\n",
    "X['hari_sejak_kontak_sebelumnya'] = X['hari_sejak_kontak_sebelumnya'].replace(999, median_hari)\n",
    "\n",
    "\n",
    "# Identify categorical and numerical columns\n",
    "cat_cols = X.select_dtypes(include=\"object\").columns.tolist()\n",
    "num_cols = X.select_dtypes(include=[\"int64\", \"float64\"]).columns.tolist()\n",
    "\n",
    "num_cols\n"
   ]
  },
  {
   "cell_type": "code",
   "execution_count": 47,
   "id": "07a423cd",
   "metadata": {},
   "outputs": [],
   "source": [
    "# Preprocessing pipeline\n",
    "categorical_transformer = Pipeline([\n",
    "    (\"imputer\", SimpleImputer(strategy=\"most_frequent\")),\n",
    "    (\"encoder\", OneHotEncoder(handle_unknown=\"ignore\"))\n",
    "])\n",
    "\n",
    "numeric_transformer = Pipeline([\n",
    "    (\"imputer\", SimpleImputer(strategy=\"mean\")),\n",
    "    (\"scaler\", StandardScaler())\n",
    "])\n",
    "\n",
    "preprocessor = ColumnTransformer([\n",
    "    (\"cat\", categorical_transformer, cat_cols),\n",
    "    (\"num\", numeric_transformer, num_cols)\n",
    "])"
   ]
  },
  {
   "cell_type": "code",
   "execution_count": 48,
   "id": "8b0dd4a7",
   "metadata": {},
   "outputs": [
    {
     "name": "stdout",
     "output_type": "stream",
     "text": [
      "Fitting 5 folds for each of 25 candidates, totalling 125 fits\n"
     ]
    }
   ],
   "source": [
    "# LightGBM pipeline\n",
    "lgb_pipeline = Pipeline([\n",
    "    (\"preprocessor\", preprocessor),\n",
    "    (\"classifier\", LGBMClassifier(objective=\"binary\", metric=\"auc\", random_state=42))\n",
    "])\n",
    "\n",
    "# Hyperparameter search space\n",
    "param_distributions_lgb = {\n",
    "    'classifier__n_estimators': [100, 200, 300, 400, 500],\n",
    "    'classifier__max_depth': [3, 5, 6, 7, 9],\n",
    "    'classifier__learning_rate': [0.01, 0.05, 0.1, 0.2, 0.3],\n",
    "    'classifier__subsample': [0.6, 0.7, 0.8, 1.0],\n",
    "    'classifier__colsample_bytree': [0.6, 0.7, 0.8, 1.0],\n",
    "    'classifier__num_leaves': [15, 31, 50, 70],\n",
    "    'classifier__reg_lambda': [0, 0.1, 1, 10],\n",
    "    'classifier__reg_alpha': [0, 0.1, 1, 10]\n",
    "}\n",
    "\n",
    "# Train-validation split\n",
    "X_train, X_val, y_train, y_val = train_test_split(X, y, stratify=y, test_size=0.2, random_state=42)\n",
    "\n",
    "# Cross-validation strategy\n",
    "cv = StratifiedKFold(n_splits=5, shuffle=True, random_state=42)\n",
    "\n",
    "# Randomized search\n",
    "search_lgb = RandomizedSearchCV(\n",
    "    lgb_pipeline,\n",
    "    param_distributions=param_distributions_lgb,\n",
    "    scoring=\"roc_auc\",\n",
    "    n_iter=25,  # Increase for better tuning\n",
    "    cv=cv,\n",
    "    verbose=1,\n",
    "    n_jobs=-1,\n",
    "    random_state=42\n",
    ")\n",
    "\n",
    "# Fit model\n",
    "search_lgb.fit(X_train, y_train)\n",
    "\n",
    "# Best model\n",
    "best_lgb_model = search_lgb.best_estimator_\n",
    "\n",
    "\n"
   ]
  },
  {
   "cell_type": "code",
   "execution_count": 22,
   "id": "9411aae0",
   "metadata": {},
   "outputs": [
    {
     "name": "stdout",
     "output_type": "stream",
     "text": [
      "Fitting 5 folds for each of 10 candidates, totalling 50 fits\n"
     ]
    },
    {
     "name": "stderr",
     "output_type": "stream",
     "text": [
      "c:\\Users\\shann\\AppData\\Local\\Programs\\Python\\Python312\\Lib\\site-packages\\xgboost\\core.py:158: UserWarning: [14:28:52] WARNING: C:\\buildkite-agent\\builds\\buildkite-windows-cpu-autoscaling-group-i-0c55ff5f71b100e98-1\\xgboost\\xgboost-ci-windows\\src\\learner.cc:740: \n",
      "Parameters: { \"use_label_encoder\" } are not used.\n",
      "\n",
      "  warnings.warn(smsg, UserWarning)\n"
     ]
    }
   ],
   "source": [
    "# XGBoost pipeline\n",
    "xgb_pipeline = Pipeline([\n",
    "    (\"preprocessor\", preprocessor),\n",
    "    (\"classifier\", XGBClassifier(use_label_encoder=False, eval_metric=\"auc\"))\n",
    "])\n",
    "\n",
    "# Hyperparameter search space\n",
    "param_distributions = {\n",
    "    'classifier__n_estimators': [100, 200, 300, 400, 500],\n",
    "    'classifier__max_depth': [3, 5, 6, 7, 9],\n",
    "    'classifier__learning_rate': [0.01, 0.1, 0,2, 0.3],\n",
    "    'classifier__subsample': [0.6, 0.7, 0.8, 1.0],\n",
    "    'classifier__colsample_bytree': [0.6, 0.7, 0.8, 1.0]\n",
    "}\n",
    "\n",
    "# Train-validation split\n",
    "X_train, X_val, y_train, y_val = train_test_split(X, y, stratify=y, test_size=0.2, random_state=42)\n",
    "\n",
    "# Cross-validation\n",
    "cv = StratifiedKFold(n_splits=5, shuffle=True, random_state=42)\n",
    "\n",
    "# Randomized search\n",
    "search = RandomizedSearchCV(\n",
    "    xgb_pipeline,\n",
    "    param_distributions=param_distributions,\n",
    "    scoring=\"roc_auc\",\n",
    "    n_iter=10,\n",
    "    cv=cv,\n",
    "    verbose=1,\n",
    "    n_jobs=-1,\n",
    "    random_state=42\n",
    ")\n",
    "\n",
    "search.fit(X_train, y_train)\n",
    "best_model = search.best_estimator_\n"
   ]
  },
  {
   "cell_type": "code",
   "execution_count": 49,
   "id": "14cc0615",
   "metadata": {},
   "outputs": [
    {
     "name": "stdout",
     "output_type": "stream",
     "text": [
      "Validation AUC: 0.797824100253166\n",
      "Best Params: {'classifier__subsample': 0.6, 'classifier__n_estimators': 200, 'classifier__max_depth': 6, 'classifier__learning_rate': 0.01, 'classifier__colsample_bytree': 0.8}\n"
     ]
    }
   ],
   "source": [
    "y_val_pred_proba = best_lgb_model.predict_proba(X_val)[:, 1]\n",
    "val_auc = roc_auc_score(y_val, y_val_pred_proba)\n",
    "print(\"Validation AUC:\", val_auc)\n",
    "print(\"Best Params:\", search.best_params_)\n"
   ]
  },
  {
   "cell_type": "code",
   "execution_count": 23,
   "id": "a56183e1",
   "metadata": {},
   "outputs": [],
   "source": [
    "output = pd.DataFrame({\n",
    "    \"customer_number\": val_customer_number,\n",
    "    \"berlangganan_deposito\": y_val_pred_proba\n",
    "})"
   ]
  },
  {
   "cell_type": "code",
   "execution_count": 26,
   "id": "7a9f2160",
   "metadata": {},
   "outputs": [
    {
     "data": {
      "text/html": [
       "<div>\n",
       "<style scoped>\n",
       "    .dataframe tbody tr th:only-of-type {\n",
       "        vertical-align: middle;\n",
       "    }\n",
       "\n",
       "    .dataframe tbody tr th {\n",
       "        vertical-align: top;\n",
       "    }\n",
       "\n",
       "    .dataframe thead th {\n",
       "        text-align: right;\n",
       "    }\n",
       "</style>\n",
       "<table border=\"1\" class=\"dataframe\">\n",
       "  <thead>\n",
       "    <tr style=\"text-align: right;\">\n",
       "      <th></th>\n",
       "      <th>customer_number</th>\n",
       "      <th>berlangganan_deposito</th>\n",
       "    </tr>\n",
       "  </thead>\n",
       "  <tbody>\n",
       "    <tr>\n",
       "      <th>1856</th>\n",
       "      <td>971758</td>\n",
       "      <td>0.776863</td>\n",
       "    </tr>\n",
       "    <tr>\n",
       "      <th>2954</th>\n",
       "      <td>803353</td>\n",
       "      <td>0.775658</td>\n",
       "    </tr>\n",
       "    <tr>\n",
       "      <th>4912</th>\n",
       "      <td>758564</td>\n",
       "      <td>0.772665</td>\n",
       "    </tr>\n",
       "    <tr>\n",
       "      <th>3609</th>\n",
       "      <td>271052</td>\n",
       "      <td>0.771808</td>\n",
       "    </tr>\n",
       "    <tr>\n",
       "      <th>4691</th>\n",
       "      <td>166739</td>\n",
       "      <td>0.765629</td>\n",
       "    </tr>\n",
       "    <tr>\n",
       "      <th>...</th>\n",
       "      <td>...</td>\n",
       "      <td>...</td>\n",
       "    </tr>\n",
       "    <tr>\n",
       "      <th>5503</th>\n",
       "      <td>585835</td>\n",
       "      <td>0.048430</td>\n",
       "    </tr>\n",
       "    <tr>\n",
       "      <th>2505</th>\n",
       "      <td>597789</td>\n",
       "      <td>0.048314</td>\n",
       "    </tr>\n",
       "    <tr>\n",
       "      <th>3077</th>\n",
       "      <td>910035</td>\n",
       "      <td>0.048247</td>\n",
       "    </tr>\n",
       "    <tr>\n",
       "      <th>3425</th>\n",
       "      <td>913860</td>\n",
       "      <td>0.048069</td>\n",
       "    </tr>\n",
       "    <tr>\n",
       "      <th>2458</th>\n",
       "      <td>894783</td>\n",
       "      <td>0.048032</td>\n",
       "    </tr>\n",
       "  </tbody>\n",
       "</table>\n",
       "<p>5729 rows × 2 columns</p>\n",
       "</div>"
      ],
      "text/plain": [
       "      customer_number  berlangganan_deposito\n",
       "1856           971758               0.776863\n",
       "2954           803353               0.775658\n",
       "4912           758564               0.772665\n",
       "3609           271052               0.771808\n",
       "4691           166739               0.765629\n",
       "...               ...                    ...\n",
       "5503           585835               0.048430\n",
       "2505           597789               0.048314\n",
       "3077           910035               0.048247\n",
       "3425           913860               0.048069\n",
       "2458           894783               0.048032\n",
       "\n",
       "[5729 rows x 2 columns]"
      ]
     },
     "execution_count": 26,
     "metadata": {},
     "output_type": "execute_result"
    }
   ],
   "source": [
    "output_sorted = output.sort_values(by=\"berlangganan_deposito\", ascending=False)\n",
    "output_sorted"
   ]
  },
  {
   "cell_type": "code",
   "execution_count": 25,
   "id": "3742f634",
   "metadata": {},
   "outputs": [],
   "source": [
    "# X_test = df_test.drop(columns=[\"customer_number\"])\n",
    "# test_predictions = best_model.predict(X_test)\n",
    "# test_probabilities = best_model.predict_proba(X_test)[:, 1]\n",
    "\n",
    "# # Save predictions if needed\n",
    "# df_test[\"prediction\"] = test_predictions\n",
    "# df_test[\"prediction_proba\"] = test_probabilities\n",
    "output.to_csv(\"predicted_validation_set.csv\", index=False)\n"
   ]
  }
 ],
 "metadata": {
  "kernelspec": {
   "display_name": "Python 3",
   "language": "python",
   "name": "python3"
  },
  "language_info": {
   "codemirror_mode": {
    "name": "ipython",
    "version": 3
   },
   "file_extension": ".py",
   "mimetype": "text/x-python",
   "name": "python",
   "nbconvert_exporter": "python",
   "pygments_lexer": "ipython3",
   "version": "3.12.3"
  }
 },
 "nbformat": 4,
 "nbformat_minor": 5
}
