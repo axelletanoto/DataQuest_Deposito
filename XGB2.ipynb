{
 "cells": [
  {
   "cell_type": "code",
   "execution_count": 81,
   "id": "a2c46657",
   "metadata": {},
   "outputs": [],
   "source": [
    "import pandas as pd\n",
    "import numpy as np\n",
    "from sklearn.model_selection import train_test_split, RandomizedSearchCV\n",
    "from sklearn.preprocessing import OneHotEncoder, StandardScaler\n",
    "from sklearn.model_selection import StratifiedKFold\n",
    "from sklearn.compose import ColumnTransformer\n",
    "from sklearn.pipeline import Pipeline\n",
    "from xgboost import XGBClassifier\n",
    "from sklearn.impute import SimpleImputer\n",
    "from sklearn.metrics import roc_auc_score"
   ]
  },
  {
   "cell_type": "code",
   "execution_count": 82,
   "id": "95c35b05",
   "metadata": {},
   "outputs": [],
   "source": [
    "# Load training and test data\n",
    "df_train = pd.read_csv(\"training_dataset.csv\")\n",
    "# df_test = pd.read_csv(\"validation_set.csv\")"
   ]
  },
  {
   "cell_type": "code",
   "execution_count": 83,
   "id": "d772ad92",
   "metadata": {},
   "outputs": [],
   "source": [
    "# Define features and target\n",
    "X = df_train.drop(columns=[\"berlangganan_deposito\", \"customer_number\"])\n",
    "X = X.replace('unknown', np.nan)\n",
    "y = df_train[\"berlangganan_deposito\"]\n",
    "\n",
    "# Identify categorical and numerical columns\n",
    "cat_cols = X.select_dtypes(include=\"object\").columns.tolist()\n",
    "num_cols = X.select_dtypes(include=[\"int64\", \"float64\"]).columns.tolist()\n",
    "\n",
    "# Preprocessing pipeline\n",
    "categorical_transformer = Pipeline([\n",
    "    (\"imputer\", SimpleImputer(strategy=\"most_frequent\")),\n",
    "    (\"encoder\", OneHotEncoder(handle_unknown=\"ignore\"))\n",
    "])\n",
    "\n",
    "numeric_transformer = Pipeline([\n",
    "    (\"imputer\", SimpleImputer(strategy=\"mean\")),\n",
    "    (\"scaler\", StandardScaler())\n",
    "])\n",
    "\n",
    "preprocessor = ColumnTransformer([\n",
    "    (\"cat\", categorical_transformer, cat_cols),\n",
    "    (\"num\", numeric_transformer, num_cols)\n",
    "])"
   ]
  },
  {
   "cell_type": "code",
   "execution_count": 84,
   "id": "9411aae0",
   "metadata": {},
   "outputs": [
    {
     "name": "stdout",
     "output_type": "stream",
     "text": [
      "Fitting 5 folds for each of 10 candidates, totalling 50 fits\n"
     ]
    },
    {
     "name": "stderr",
     "output_type": "stream",
     "text": [
      "c:\\Users\\Geovanka\\Documents\\GitHub\\DataQuest_Deposito\\.venv\\Lib\\site-packages\\xgboost\\training.py:183: UserWarning: [23:12:10] WARNING: C:\\actions-runner\\_work\\xgboost\\xgboost\\src\\learner.cc:738: \n",
      "Parameters: { \"use_label_encoder\" } are not used.\n",
      "\n",
      "  bst.update(dtrain, iteration=i, fobj=obj)\n"
     ]
    }
   ],
   "source": [
    "# XGBoost pipeline\n",
    "xgb_pipeline = Pipeline([\n",
    "    (\"preprocessor\", preprocessor),\n",
    "    (\"classifier\", XGBClassifier(use_label_encoder=False, eval_metric=\"auc\"))\n",
    "])\n",
    "\n",
    "# Hyperparameter search space\n",
    "param_distributions = {\n",
    "    'classifier__n_estimators': [100, 200, 300, 400, 500],\n",
    "    'classifier__max_depth': [3, 5, 6, 7, 9],\n",
    "    'classifier__learning_rate': [0.01, 0.1, 0,2, 0.3],\n",
    "    'classifier__subsample': [0.6, 0.7, 0.8, 1.0],\n",
    "    'classifier__colsample_bytree': [0.6, 0.7, 0.8, 1.0]\n",
    "}\n",
    "\n",
    "# Train-validation split\n",
    "X_train, X_val, y_train, y_val = train_test_split(X, y, stratify=y, test_size=0.2, random_state=42)\n",
    "\n",
    "# Cross-validation\n",
    "cv = StratifiedKFold(n_splits=5, shuffle=True, random_state=42)\n",
    "\n",
    "# Randomized search\n",
    "search = RandomizedSearchCV(\n",
    "    xgb_pipeline,\n",
    "    param_distributions=param_distributions,\n",
    "    scoring=\"roc_auc\",\n",
    "    n_iter=10,\n",
    "    cv=cv,\n",
    "    verbose=1,\n",
    "    n_jobs=-1,\n",
    "    random_state=42\n",
    ")\n",
    "\n",
    "search.fit(X_train, y_train)\n",
    "best_model = search.best_estimator_\n"
   ]
  },
  {
   "cell_type": "code",
   "execution_count": 85,
   "id": "14cc0615",
   "metadata": {},
   "outputs": [
    {
     "name": "stdout",
     "output_type": "stream",
     "text": [
      "Validation AUC: 0.7967402466120157\n",
      "Best Params: {'classifier__subsample': 0.6, 'classifier__n_estimators': 200, 'classifier__max_depth': 6, 'classifier__learning_rate': 0.01, 'classifier__colsample_bytree': 0.8}\n"
     ]
    }
   ],
   "source": [
    "y_val_pred_proba = best_model.predict_proba(X_val)[:, 1]\n",
    "val_auc = roc_auc_score(y_val, y_val_pred_proba)\n",
    "print(\"Validation AUC:\", val_auc)\n",
    "print(\"Best Params:\", search.best_params_)\n"
   ]
  },
  {
   "cell_type": "code",
   "execution_count": 86,
   "id": "3742f634",
   "metadata": {},
   "outputs": [],
   "source": [
    "# X_test = df_test.drop(columns=[\"customer_number\"])\n",
    "# test_predictions = best_model.predict(X_test)\n",
    "# test_probabilities = best_model.predict_proba(X_test)[:, 1]\n",
    "\n",
    "# # Save predictions if needed\n",
    "# df_test[\"prediction\"] = test_predictions\n",
    "# df_test[\"prediction_proba\"] = test_probabilities\n",
    "# df_test.to_csv(\"predicted_validation_set.csv\", index=False)\n"
   ]
  }
 ],
 "metadata": {
  "kernelspec": {
   "display_name": ".venv",
   "language": "python",
   "name": "python3"
  },
  "language_info": {
   "codemirror_mode": {
    "name": "ipython",
    "version": 3
   },
   "file_extension": ".py",
   "mimetype": "text/x-python",
   "name": "python",
   "nbconvert_exporter": "python",
   "pygments_lexer": "ipython3",
   "version": "3.12.3"
  }
 },
 "nbformat": 4,
 "nbformat_minor": 5
}
