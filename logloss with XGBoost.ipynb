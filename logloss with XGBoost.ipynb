{
 "cells": [
  {
   "cell_type": "code",
   "execution_count": 80,
   "id": "64a71e46",
   "metadata": {},
   "outputs": [],
   "source": [
    "import numpy as np\n",
    "import pandas as pd\n",
    "from sklearn.model_selection import train_test_split, RandomizedSearchCV\n",
    "from sklearn.impute import SimpleImputer\n",
    "from sklearn.preprocessing import StandardScaler, OneHotEncoder\n",
    "from imblearn.over_sampling import SMOTE\n",
    "from sklearn.metrics import log_loss\n",
    "from sklearn.model_selection import GridSearchCV\n",
    "from sklearn.model_selection import StratifiedKFold\n",
    "from sklearn.pipeline import Pipeline\n",
    "from imblearn.pipeline import Pipeline as ImbPipeline\n",
    "from sklearn.compose import ColumnTransformer\n",
    "import xgboost as xgb\n",
    "from sklearn.metrics import accuracy_score\n",
    "from sklearn.metrics import roc_auc_score\n",
    "from sklearn.metrics import roc_curve\n",
    "import matplotlib.pyplot as plt"
   ]
  },
  {
   "cell_type": "code",
   "execution_count": 81,
   "id": "2c79dede",
   "metadata": {},
   "outputs": [
    {
     "data": {
      "text/plain": [
       "22916"
      ]
     },
     "execution_count": 81,
     "metadata": {},
     "output_type": "execute_result"
    }
   ],
   "source": [
    "df = pd.read_csv('training_dataset.csv')\n",
    "num_rows = df.shape[0]\n",
    "num_rows"
   ]
  },
  {
   "cell_type": "code",
   "execution_count": 82,
   "id": "5044395a",
   "metadata": {},
   "outputs": [],
   "source": [
    "# Target and features\n",
    "y = df[\"berlangganan_deposito\"]\n",
    "X = df.drop(columns=[\"berlangganan_deposito\", \"customer_number\"])"
   ]
  },
  {
   "cell_type": "code",
   "execution_count": 83,
   "id": "d1527d88",
   "metadata": {},
   "outputs": [],
   "source": [
    "# categorical_columns = [\n",
    "#     'pekerjaan', 'status_perkawinan', 'pendidikan', 'gagal_bayar_sebelumnya',\n",
    "#     'pinjaman_rumah', 'pinjaman_pribadi', 'jenis_kontak', 'bulan_kontak_terakhir',\n",
    "#     'hari_kontak_terakhir', 'hasil_kampanye_sebelumnya'\n",
    "# ]\n",
    "\n",
    "# numerical_features = [\n",
    "#     'usia', 'jumlah_kontak_kampanye_ini', 'hari_sejak_kontak_sebelumnya',\n",
    "#     'jumlah_kontak_sebelumnya', 'tingkat_variasi_pekerjaan',\n",
    "#     'indeks_harga_konsumen', 'indeks_kepercayaan_konsumen',\n",
    "#     'suku_bunga_euribor_3bln', 'jumlah_pekerja'\n",
    "# ]\n",
    "\n",
    "categorical_columns = X.select_dtypes(include=\"object\").columns.tolist()\n",
    "numerical_features = X.select_dtypes(include=[\"int64\", \"float64\"]).columns.tolist()"
   ]
  },
  {
   "cell_type": "code",
   "execution_count": 84,
   "id": "eba868e2",
   "metadata": {},
   "outputs": [],
   "source": [
    "# for col in categorical_columns:\n",
    "#     X[col] = X[col].astype(str)"
   ]
  },
  {
   "cell_type": "code",
   "execution_count": 85,
   "id": "8176a330",
   "metadata": {},
   "outputs": [],
   "source": [
    "# Split data before preprocessing\n",
    "X_train, X_test, y_train, y_test = train_test_split(X, y, stratify=y, test_size=0.2, random_state=42)"
   ]
  },
  {
   "cell_type": "code",
   "execution_count": 86,
   "id": "8b3e7e0c",
   "metadata": {},
   "outputs": [],
   "source": [
    "numeric_transformer = Pipeline(steps=[\n",
    "    ('imputer', SimpleImputer(strategy='median')),\n",
    "    ('scaler', StandardScaler())\n",
    "])\n",
    "\n",
    "categorical_transformer = Pipeline(steps=[\n",
    "    ('imputer', SimpleImputer(strategy='most_frequent')),\n",
    "    ('onehot', OneHotEncoder(handle_unknown='ignore', sparse_output=False))\n",
    "])"
   ]
  },
  {
   "cell_type": "code",
   "execution_count": 87,
   "id": "68824e16",
   "metadata": {},
   "outputs": [],
   "source": [
    "preprocessor = ColumnTransformer(\n",
    "    transformers=[\n",
    "        ('num', numeric_transformer, numerical_features),\n",
    "        ('cat', categorical_transformer, categorical_columns)\n",
    "    ]\n",
    ")"
   ]
  },
  {
   "cell_type": "code",
   "execution_count": 88,
   "id": "d873a1a1",
   "metadata": {},
   "outputs": [],
   "source": [
    "# XGBoost classifier\n",
    "xgb_clf = xgb.XGBClassifier(\n",
    "    objective='binary:logistic',\n",
    "    eval_metric='auc',\n",
    "    use_label_encoder=False,\n",
    "    random_state=42\n",
    ")"
   ]
  },
  {
   "cell_type": "code",
   "execution_count": 89,
   "id": "970bcc1b",
   "metadata": {},
   "outputs": [],
   "source": [
    "# Full pipeline with SMOTE\n",
    "pipeline = ImbPipeline([\n",
    "    ('preprocessor', preprocessor),\n",
    "    ('smote', SMOTE(random_state=42)),\n",
    "    ('classifier', xgb_clf)\n",
    "])"
   ]
  },
  {
   "cell_type": "code",
   "execution_count": 90,
   "id": "9e1ef160",
   "metadata": {},
   "outputs": [],
   "source": [
    "# Hyperparameter grid\n",
    "param_grid = {\n",
    "    'classifier__n_estimators': [100, 200, 300, 400, 500],\n",
    "    'classifier__max_depth': [3, 5, 6, 7, 9],\n",
    "    'classifier__learning_rate': [0.01, 0.1, 0,2, 0.3],\n",
    "    'classifier__subsample': [0.6, 0.7, 0.8, 1.0],\n",
    "    'classifier__colsample_bytree': [0.6, 0.7, 0.8, 1.0]\n",
    "}"
   ]
  },
  {
   "cell_type": "code",
   "execution_count": 91,
   "id": "27857347",
   "metadata": {},
   "outputs": [],
   "source": [
    "# Cross-validation\n",
    "cv = StratifiedKFold(n_splits=5, shuffle=True, random_state=42)"
   ]
  },
  {
   "cell_type": "code",
   "execution_count": 92,
   "id": "bd17b881",
   "metadata": {},
   "outputs": [],
   "source": [
    "# Grid Search\n",
    "grid = RandomizedSearchCV(\n",
    "    pipeline,\n",
    "    param_distributions=param_grid,\n",
    "    scoring='roc_auc',\n",
    "    n_iter=10,\n",
    "    cv=cv,\n",
    "    n_jobs=-1,\n",
    "    verbose=1,\n",
    "    random_state=42\n",
    ")"
   ]
  },
  {
   "cell_type": "code",
   "execution_count": 93,
   "id": "e58bb8da",
   "metadata": {},
   "outputs": [
    {
     "name": "stdout",
     "output_type": "stream",
     "text": [
      "Fitting 5 folds for each of 10 candidates, totalling 50 fits\n"
     ]
    },
    {
     "name": "stderr",
     "output_type": "stream",
     "text": [
      "c:\\Users\\Geovanka\\Documents\\GitHub\\DataQuest_Deposito\\.venv\\Lib\\site-packages\\xgboost\\training.py:183: UserWarning: [22:30:25] WARNING: C:\\actions-runner\\_work\\xgboost\\xgboost\\src\\learner.cc:738: \n",
      "Parameters: { \"use_label_encoder\" } are not used.\n",
      "\n",
      "  bst.update(dtrain, iteration=i, fobj=obj)\n"
     ]
    }
   ],
   "source": [
    "# Fit model\n",
    "grid.fit(X_train, y_train)\n",
    "best_model = grid.best_estimator_"
   ]
  },
  {
   "cell_type": "code",
   "execution_count": 94,
   "id": "42641a01",
   "metadata": {},
   "outputs": [
    {
     "name": "stdout",
     "output_type": "stream",
     "text": [
      "Best parameters: {'classifier__subsample': 0.6, 'classifier__n_estimators': 200, 'classifier__max_depth': 6, 'classifier__learning_rate': 0.01, 'classifier__colsample_bytree': 0.8}\n"
     ]
    }
   ],
   "source": [
    "# Best params\n",
    "print(\"Best parameters:\", grid.best_params_)"
   ]
  },
  {
   "cell_type": "code",
   "execution_count": 95,
   "id": "3854653d",
   "metadata": {},
   "outputs": [
    {
     "name": "stdout",
     "output_type": "stream",
     "text": [
      "Validation AUC: 0.7837062238718058\n"
     ]
    }
   ],
   "source": [
    "y_val_pred_proba = best_model.predict_proba(X_test)[:, 1]\n",
    "val_auc = roc_auc_score(y_test, y_val_pred_proba)\n",
    "print(\"Validation AUC:\", val_auc)"
   ]
  },
  {
   "cell_type": "code",
   "execution_count": 96,
   "id": "022d6c91",
   "metadata": {},
   "outputs": [],
   "source": [
    "# Load your new dataset\n",
    "# new_data = pd.read_csv('validation_set.csv')"
   ]
  },
  {
   "cell_type": "code",
   "execution_count": 97,
   "id": "49c149e9",
   "metadata": {},
   "outputs": [],
   "source": [
    "# # Predict class\n",
    "# new_preds = grid.predict(new_data)\n",
    "\n",
    "# # Predict probabilities (optional, for e.g., log loss or AUC)\n",
    "# new_pred_probs = grid.predict_proba(new_data)[:, 1]  # probability of class 1\n",
    "\n",
    "# # Add predictions as new columns\n",
    "# new_data['predicted_class'] = new_preds\n",
    "# new_data['predicted_proba'] = new_pred_probs\n",
    "\n",
    "# # Save to new CSV\n",
    "# new_data.to_csv('new_data_with_predictions.csv', index=False)"
   ]
  },
  {
   "cell_type": "code",
   "execution_count": 98,
   "id": "23665f40",
   "metadata": {},
   "outputs": [],
   "source": [
    "# data_w_pred = pd.read_csv('new_data_with_predictions.csv')\n",
    "# data_w_pred"
   ]
  }
 ],
 "metadata": {
  "kernelspec": {
   "display_name": ".venv",
   "language": "python",
   "name": "python3"
  },
  "language_info": {
   "codemirror_mode": {
    "name": "ipython",
    "version": 3
   },
   "file_extension": ".py",
   "mimetype": "text/x-python",
   "name": "python",
   "nbconvert_exporter": "python",
   "pygments_lexer": "ipython3",
   "version": "3.12.3"
  }
 },
 "nbformat": 4,
 "nbformat_minor": 5
}
